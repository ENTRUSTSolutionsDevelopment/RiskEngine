{
 "cells": [
  {
   "cell_type": "code",
   "execution_count": null,
   "metadata": {},
   "outputs": [],
   "source": [
    "# this notebook is a collection of notes and thoughts collected during the development of the ENTRUST risk model update effort.\n",
    "# Dominic Ciarlette\n",
    "# 20250206"
   ]
  },
  {
   "cell_type": "code",
   "execution_count": 1,
   "metadata": {},
   "outputs": [
    {
     "name": "stderr",
     "output_type": "stream",
     "text": [
      "<>:26: SyntaxWarning: 'tuple' object is not callable; perhaps you missed a comma?\n",
      "<>:26: SyntaxWarning: 'tuple' object is not callable; perhaps you missed a comma?\n",
      "C:\\Users\\dciarlette\\AppData\\Local\\Temp\\ipykernel_19156\\511281427.py:26: SyntaxWarning: 'tuple' object is not callable; perhaps you missed a comma?\n",
      "  nodes = [('OTHER_EXPOSURE',         {'threat':'corrosion','type':'exposure','subtype':'external','unit':'mpy'})\n"
     ]
    },
    {
     "ename": "TypeError",
     "evalue": "'tuple' object is not callable",
     "output_type": "error",
     "traceback": [
      "\u001b[1;31m---------------------------------------------------------------------------\u001b[0m",
      "\u001b[1;31mTypeError\u001b[0m                                 Traceback (most recent call last)",
      "Cell \u001b[1;32mIn[1], line 26\u001b[0m\n\u001b[0;32m     20\u001b[0m node_type_color \u001b[38;5;241m=\u001b[39m {\u001b[38;5;124m'\u001b[39m\u001b[38;5;124mexposure\u001b[39m\u001b[38;5;124m'\u001b[39m:\u001b[38;5;124m'\u001b[39m\u001b[38;5;124mred\u001b[39m\u001b[38;5;124m'\u001b[39m,\n\u001b[0;32m     21\u001b[0m                    \u001b[38;5;124m'\u001b[39m\u001b[38;5;124mmitigation\u001b[39m\u001b[38;5;124m'\u001b[39m:\u001b[38;5;124m'\u001b[39m\u001b[38;5;124mblue\u001b[39m\u001b[38;5;124m'\u001b[39m,\n\u001b[0;32m     22\u001b[0m                    \u001b[38;5;124m'\u001b[39m\u001b[38;5;124mresistance\u001b[39m\u001b[38;5;124m'\u001b[39m:\u001b[38;5;124m'\u001b[39m\u001b[38;5;124mgreen\u001b[39m\u001b[38;5;124m'\u001b[39m}\n\u001b[0;32m     24\u001b[0m G \u001b[38;5;241m=\u001b[39m nx\u001b[38;5;241m.\u001b[39mGraph()\n\u001b[1;32m---> 26\u001b[0m nodes \u001b[38;5;241m=\u001b[39m [\u001b[43m(\u001b[49m\u001b[38;5;124;43m'\u001b[39;49m\u001b[38;5;124;43mOTHER_EXPOSURE\u001b[39;49m\u001b[38;5;124;43m'\u001b[39;49m\u001b[43m,\u001b[49m\u001b[43m         \u001b[49m\u001b[43m{\u001b[49m\u001b[38;5;124;43m'\u001b[39;49m\u001b[38;5;124;43mthreat\u001b[39;49m\u001b[38;5;124;43m'\u001b[39;49m\u001b[43m:\u001b[49m\u001b[38;5;124;43m'\u001b[39;49m\u001b[38;5;124;43mcorrosion\u001b[39;49m\u001b[38;5;124;43m'\u001b[39;49m\u001b[43m,\u001b[49m\u001b[38;5;124;43m'\u001b[39;49m\u001b[38;5;124;43mtype\u001b[39;49m\u001b[38;5;124;43m'\u001b[39;49m\u001b[43m:\u001b[49m\u001b[38;5;124;43m'\u001b[39;49m\u001b[38;5;124;43mexposure\u001b[39;49m\u001b[38;5;124;43m'\u001b[39;49m\u001b[43m,\u001b[49m\u001b[38;5;124;43m'\u001b[39;49m\u001b[38;5;124;43msubtype\u001b[39;49m\u001b[38;5;124;43m'\u001b[39;49m\u001b[43m:\u001b[49m\u001b[38;5;124;43m'\u001b[39;49m\u001b[38;5;124;43mexternal\u001b[39;49m\u001b[38;5;124;43m'\u001b[39;49m\u001b[43m,\u001b[49m\u001b[38;5;124;43m'\u001b[39;49m\u001b[38;5;124;43munit\u001b[39;49m\u001b[38;5;124;43m'\u001b[39;49m\u001b[43m:\u001b[49m\u001b[38;5;124;43m'\u001b[39;49m\u001b[38;5;124;43mmpy\u001b[39;49m\u001b[38;5;124;43m'\u001b[39;49m\u001b[43m}\u001b[49m\u001b[43m)\u001b[49m\n\u001b[0;32m     27\u001b[0m \u001b[43m    \u001b[49m\n\u001b[0;32m     28\u001b[0m \u001b[43m         \u001b[49m\u001b[43m(\u001b[49m\u001b[38;5;124;43m'\u001b[39;49m\u001b[38;5;124;43matmosphere\u001b[39;49m\u001b[38;5;124;43m'\u001b[39;49m\u001b[43m,\u001b[49m\u001b[43m             \u001b[49m\u001b[43m{\u001b[49m\u001b[38;5;124;43m'\u001b[39;49m\u001b[38;5;124;43mthreat\u001b[39;49m\u001b[38;5;124;43m'\u001b[39;49m\u001b[43m:\u001b[49m\u001b[38;5;124;43m'\u001b[39;49m\u001b[38;5;124;43mcorrosion\u001b[39;49m\u001b[38;5;124;43m'\u001b[39;49m\u001b[43m,\u001b[49m\u001b[38;5;124;43m'\u001b[39;49m\u001b[38;5;124;43mtype\u001b[39;49m\u001b[38;5;124;43m'\u001b[39;49m\u001b[43m:\u001b[49m\u001b[38;5;124;43m'\u001b[39;49m\u001b[38;5;124;43mexposure\u001b[39;49m\u001b[38;5;124;43m'\u001b[39;49m\u001b[43m,\u001b[49m\u001b[38;5;124;43m'\u001b[39;49m\u001b[38;5;124;43msubtype\u001b[39;49m\u001b[38;5;124;43m'\u001b[39;49m\u001b[43m:\u001b[49m\u001b[38;5;124;43m'\u001b[39;49m\u001b[38;5;124;43mexternal\u001b[39;49m\u001b[38;5;124;43m'\u001b[39;49m\u001b[43m,\u001b[49m\u001b[38;5;124;43m'\u001b[39;49m\u001b[38;5;124;43munit\u001b[39;49m\u001b[38;5;124;43m'\u001b[39;49m\u001b[43m:\u001b[49m\u001b[38;5;124;43m'\u001b[39;49m\u001b[38;5;124;43mmpy\u001b[39;49m\u001b[38;5;124;43m'\u001b[39;49m\u001b[43m}\u001b[49m\u001b[43m)\u001b[49m, \u001b[38;5;66;03m# p 178 s 6.5.1.1 \u001b[39;00m\n\u001b[0;32m     29\u001b[0m          (\u001b[38;5;124m'\u001b[39m\u001b[38;5;124msoil\u001b[39m\u001b[38;5;124m'\u001b[39m,                   {\u001b[38;5;124m'\u001b[39m\u001b[38;5;124mthreat\u001b[39m\u001b[38;5;124m'\u001b[39m:\u001b[38;5;124m'\u001b[39m\u001b[38;5;124mcorrosion\u001b[39m\u001b[38;5;124m'\u001b[39m,\u001b[38;5;124m'\u001b[39m\u001b[38;5;124mtype\u001b[39m\u001b[38;5;124m'\u001b[39m:\u001b[38;5;124m'\u001b[39m\u001b[38;5;124mexposure\u001b[39m\u001b[38;5;124m'\u001b[39m,\u001b[38;5;124m'\u001b[39m\u001b[38;5;124msubtype\u001b[39m\u001b[38;5;124m'\u001b[39m:\u001b[38;5;124m'\u001b[39m\u001b[38;5;124mexternal\u001b[39m\u001b[38;5;124m'\u001b[39m,\u001b[38;5;124m'\u001b[39m\u001b[38;5;124munit\u001b[39m\u001b[38;5;124m'\u001b[39m:\u001b[38;5;124m'\u001b[39m\u001b[38;5;124mmpy\u001b[39m\u001b[38;5;124m'\u001b[39m}), \u001b[38;5;66;03m# p 180 s 6.5.1.2\u001b[39;00m\n\u001b[0;32m     30\u001b[0m          (\u001b[38;5;124m'\u001b[39m\u001b[38;5;124mwater\u001b[39m\u001b[38;5;124m'\u001b[39m,                  {\u001b[38;5;124m'\u001b[39m\u001b[38;5;124mthreat\u001b[39m\u001b[38;5;124m'\u001b[39m:\u001b[38;5;124m'\u001b[39m\u001b[38;5;124mcorrosion\u001b[39m\u001b[38;5;124m'\u001b[39m,\u001b[38;5;124m'\u001b[39m\u001b[38;5;124mtype\u001b[39m\u001b[38;5;124m'\u001b[39m:\u001b[38;5;124m'\u001b[39m\u001b[38;5;124mexposure\u001b[39m\u001b[38;5;124m'\u001b[39m,\u001b[38;5;124m'\u001b[39m\u001b[38;5;124msubtype\u001b[39m\u001b[38;5;124m'\u001b[39m:\u001b[38;5;124m'\u001b[39m\u001b[38;5;124mexternal\u001b[39m\u001b[38;5;124m'\u001b[39m,\u001b[38;5;124m'\u001b[39m\u001b[38;5;124munit\u001b[39m\u001b[38;5;124m'\u001b[39m:\u001b[38;5;124m'\u001b[39m\u001b[38;5;124mmpy\u001b[39m\u001b[38;5;124m'\u001b[39m}), \u001b[38;5;66;03m# p 180 s 6.5.1.2\u001b[39;00m\n\u001b[0;32m     31\u001b[0m          (\u001b[38;5;124m'\u001b[39m\u001b[38;5;124mac_induced\u001b[39m\u001b[38;5;124m'\u001b[39m,             {\u001b[38;5;124m'\u001b[39m\u001b[38;5;124mthreat\u001b[39m\u001b[38;5;124m'\u001b[39m:\u001b[38;5;124m'\u001b[39m\u001b[38;5;124mcorrosion\u001b[39m\u001b[38;5;124m'\u001b[39m,\u001b[38;5;124m'\u001b[39m\u001b[38;5;124mtype\u001b[39m\u001b[38;5;124m'\u001b[39m:\u001b[38;5;124m'\u001b[39m\u001b[38;5;124mexposure\u001b[39m\u001b[38;5;124m'\u001b[39m,\u001b[38;5;124m'\u001b[39m\u001b[38;5;124msubtype\u001b[39m\u001b[38;5;124m'\u001b[39m:\u001b[38;5;124m'\u001b[39m\u001b[38;5;124mexternal\u001b[39m\u001b[38;5;124m'\u001b[39m,\u001b[38;5;124m'\u001b[39m\u001b[38;5;124munit\u001b[39m\u001b[38;5;124m'\u001b[39m:\u001b[38;5;124m'\u001b[39m\u001b[38;5;124mmpy\u001b[39m\u001b[38;5;124m'\u001b[39m}), \u001b[38;5;66;03m# p 182 s x\u001b[39;00m\n\u001b[0;32m     32\u001b[0m          (\u001b[38;5;124m'\u001b[39m\u001b[38;5;124minterferences\u001b[39m\u001b[38;5;124m'\u001b[39m,          {\u001b[38;5;124m'\u001b[39m\u001b[38;5;124mthreat\u001b[39m\u001b[38;5;124m'\u001b[39m:\u001b[38;5;124m'\u001b[39m\u001b[38;5;124mcorrosion\u001b[39m\u001b[38;5;124m'\u001b[39m,\u001b[38;5;124m'\u001b[39m\u001b[38;5;124mtype\u001b[39m\u001b[38;5;124m'\u001b[39m:\u001b[38;5;124m'\u001b[39m\u001b[38;5;124mexposure\u001b[39m\u001b[38;5;124m'\u001b[39m,\u001b[38;5;124m'\u001b[39m\u001b[38;5;124msubtype\u001b[39m\u001b[38;5;124m'\u001b[39m:\u001b[38;5;124m'\u001b[39m\u001b[38;5;124mexternal\u001b[39m\u001b[38;5;124m'\u001b[39m,\u001b[38;5;124m'\u001b[39m\u001b[38;5;124munit\u001b[39m\u001b[38;5;124m'\u001b[39m:\u001b[38;5;124m'\u001b[39m\u001b[38;5;124mmpy\u001b[39m\u001b[38;5;124m'\u001b[39m}), \u001b[38;5;66;03m# p 191\u001b[39;00m\n\u001b[0;32m     33\u001b[0m          \n\u001b[0;32m     34\u001b[0m          (\u001b[38;5;124m'\u001b[39m\u001b[38;5;124mproduct\u001b[39m\u001b[38;5;124m'\u001b[39m,                {\u001b[38;5;124m'\u001b[39m\u001b[38;5;124mthreat\u001b[39m\u001b[38;5;124m'\u001b[39m:\u001b[38;5;124m'\u001b[39m\u001b[38;5;124mcorrosion\u001b[39m\u001b[38;5;124m'\u001b[39m,\u001b[38;5;124m'\u001b[39m\u001b[38;5;124mtype\u001b[39m\u001b[38;5;124m'\u001b[39m:\u001b[38;5;124m'\u001b[39m\u001b[38;5;124mexposure\u001b[39m\u001b[38;5;124m'\u001b[39m,\u001b[38;5;124m'\u001b[39m\u001b[38;5;124msubtype\u001b[39m\u001b[38;5;124m'\u001b[39m:\u001b[38;5;124m'\u001b[39m\u001b[38;5;124minternal\u001b[39m\u001b[38;5;124m'\u001b[39m,\u001b[38;5;124m'\u001b[39m\u001b[38;5;124munit\u001b[39m\u001b[38;5;124m'\u001b[39m:\u001b[38;5;124m'\u001b[39m\u001b[38;5;124mmpy\u001b[39m\u001b[38;5;124m'\u001b[39m}),\n\u001b[0;32m     35\u001b[0m          (\u001b[38;5;124m'\u001b[39m\u001b[38;5;124mnon_product\u001b[39m\u001b[38;5;124m'\u001b[39m,            {\u001b[38;5;124m'\u001b[39m\u001b[38;5;124mthreat\u001b[39m\u001b[38;5;124m'\u001b[39m:\u001b[38;5;124m'\u001b[39m\u001b[38;5;124mcorrosion\u001b[39m\u001b[38;5;124m'\u001b[39m,\u001b[38;5;124m'\u001b[39m\u001b[38;5;124mtype\u001b[39m\u001b[38;5;124m'\u001b[39m:\u001b[38;5;124m'\u001b[39m\u001b[38;5;124mexposure\u001b[39m\u001b[38;5;124m'\u001b[39m,\u001b[38;5;124m'\u001b[39m\u001b[38;5;124msubtype\u001b[39m\u001b[38;5;124m'\u001b[39m:\u001b[38;5;124m'\u001b[39m\u001b[38;5;124minternal\u001b[39m\u001b[38;5;124m'\u001b[39m,\u001b[38;5;124m'\u001b[39m\u001b[38;5;124munit\u001b[39m\u001b[38;5;124m'\u001b[39m:\u001b[38;5;124m'\u001b[39m\u001b[38;5;124mmpy\u001b[39m\u001b[38;5;124m'\u001b[39m}),\n\u001b[0;32m     36\u001b[0m          \n\u001b[0;32m     37\u001b[0m          \n\u001b[0;32m     38\u001b[0m          (\u001b[38;5;124m'\u001b[39m\u001b[38;5;124mcoating\u001b[39m\u001b[38;5;124m'\u001b[39m,                {\u001b[38;5;124m'\u001b[39m\u001b[38;5;124mthreat\u001b[39m\u001b[38;5;124m'\u001b[39m:\u001b[38;5;124m'\u001b[39m\u001b[38;5;124mcorrosion\u001b[39m\u001b[38;5;124m'\u001b[39m,\u001b[38;5;124m'\u001b[39m\u001b[38;5;124mtype\u001b[39m\u001b[38;5;124m'\u001b[39m:\u001b[38;5;124m'\u001b[39m\u001b[38;5;124mmitigation\u001b[39m\u001b[38;5;124m'\u001b[39m,\u001b[38;5;124m'\u001b[39m\u001b[38;5;124msubtype\u001b[39m\u001b[38;5;124m'\u001b[39m:\u001b[38;5;124m'\u001b[39m\u001b[38;5;124mexternal\u001b[39m\u001b[38;5;124m'\u001b[39m,\u001b[38;5;124m'\u001b[39m\u001b[38;5;124munit\u001b[39m\u001b[38;5;124m'\u001b[39m:\u001b[38;5;124m'\u001b[39m\u001b[38;5;124mpercent_effective\u001b[39m\u001b[38;5;124m'\u001b[39m}),\n\u001b[0;32m     39\u001b[0m          (\u001b[38;5;124m'\u001b[39m\u001b[38;5;124mcathodic_protection\u001b[39m\u001b[38;5;124m'\u001b[39m,    {\u001b[38;5;124m'\u001b[39m\u001b[38;5;124mthreat\u001b[39m\u001b[38;5;124m'\u001b[39m:\u001b[38;5;124m'\u001b[39m\u001b[38;5;124mcorrosion\u001b[39m\u001b[38;5;124m'\u001b[39m,\u001b[38;5;124m'\u001b[39m\u001b[38;5;124mtype\u001b[39m\u001b[38;5;124m'\u001b[39m:\u001b[38;5;124m'\u001b[39m\u001b[38;5;124mmitigation\u001b[39m\u001b[38;5;124m'\u001b[39m,\u001b[38;5;124m'\u001b[39m\u001b[38;5;124msubtype\u001b[39m\u001b[38;5;124m'\u001b[39m:\u001b[38;5;124m'\u001b[39m\u001b[38;5;124mexternal\u001b[39m\u001b[38;5;124m'\u001b[39m,\u001b[38;5;124m'\u001b[39m\u001b[38;5;124munit\u001b[39m\u001b[38;5;124m'\u001b[39m:\u001b[38;5;124m'\u001b[39m\u001b[38;5;124mpercent_effective\u001b[39m\u001b[38;5;124m'\u001b[39m}),\n\u001b[0;32m     40\u001b[0m \n\u001b[0;32m     41\u001b[0m          (\u001b[38;5;124m'\u001b[39m\u001b[38;5;124minternal_coating\u001b[39m\u001b[38;5;124m'\u001b[39m,       {\u001b[38;5;124m'\u001b[39m\u001b[38;5;124mthreat\u001b[39m\u001b[38;5;124m'\u001b[39m:\u001b[38;5;124m'\u001b[39m\u001b[38;5;124mcorrosion\u001b[39m\u001b[38;5;124m'\u001b[39m,\u001b[38;5;124m'\u001b[39m\u001b[38;5;124mtype\u001b[39m\u001b[38;5;124m'\u001b[39m:\u001b[38;5;124m'\u001b[39m\u001b[38;5;124mmitigation\u001b[39m\u001b[38;5;124m'\u001b[39m,\u001b[38;5;124m'\u001b[39m\u001b[38;5;124msubtype\u001b[39m\u001b[38;5;124m'\u001b[39m:\u001b[38;5;124m'\u001b[39m\u001b[38;5;124minternal\u001b[39m\u001b[38;5;124m'\u001b[39m,\u001b[38;5;124m'\u001b[39m\u001b[38;5;124munit\u001b[39m\u001b[38;5;124m'\u001b[39m:\u001b[38;5;124m'\u001b[39m\u001b[38;5;124mpercent_effective\u001b[39m\u001b[38;5;124m'\u001b[39m}), \u001b[38;5;66;03m# p 207 s 6.6.3.3\u001b[39;00m\n\u001b[0;32m     42\u001b[0m          (\u001b[38;5;124m'\u001b[39m\u001b[38;5;124minhibitor\u001b[39m\u001b[38;5;124m'\u001b[39m,              {\u001b[38;5;124m'\u001b[39m\u001b[38;5;124mthreat\u001b[39m\u001b[38;5;124m'\u001b[39m:\u001b[38;5;124m'\u001b[39m\u001b[38;5;124mcorrosion\u001b[39m\u001b[38;5;124m'\u001b[39m,\u001b[38;5;124m'\u001b[39m\u001b[38;5;124mtype\u001b[39m\u001b[38;5;124m'\u001b[39m:\u001b[38;5;124m'\u001b[39m\u001b[38;5;124mmitigation\u001b[39m\u001b[38;5;124m'\u001b[39m,\u001b[38;5;124m'\u001b[39m\u001b[38;5;124msubtype\u001b[39m\u001b[38;5;124m'\u001b[39m:\u001b[38;5;124m'\u001b[39m\u001b[38;5;124minternal\u001b[39m\u001b[38;5;124m'\u001b[39m,\u001b[38;5;124m'\u001b[39m\u001b[38;5;124munit\u001b[39m\u001b[38;5;124m'\u001b[39m:\u001b[38;5;124m'\u001b[39m\u001b[38;5;124mpercent_effective\u001b[39m\u001b[38;5;124m'\u001b[39m}), \u001b[38;5;66;03m# p 206 s 6.6.3.2\u001b[39;00m\n\u001b[0;32m     43\u001b[0m          (\u001b[38;5;124m'\u001b[39m\u001b[38;5;124mcleaning\u001b[39m\u001b[38;5;124m'\u001b[39m,               {\u001b[38;5;124m'\u001b[39m\u001b[38;5;124mthreat\u001b[39m\u001b[38;5;124m'\u001b[39m:\u001b[38;5;124m'\u001b[39m\u001b[38;5;124mcorrosion\u001b[39m\u001b[38;5;124m'\u001b[39m,\u001b[38;5;124m'\u001b[39m\u001b[38;5;124mtype\u001b[39m\u001b[38;5;124m'\u001b[39m:\u001b[38;5;124m'\u001b[39m\u001b[38;5;124mmitigation\u001b[39m\u001b[38;5;124m'\u001b[39m,\u001b[38;5;124m'\u001b[39m\u001b[38;5;124msubtype\u001b[39m\u001b[38;5;124m'\u001b[39m:\u001b[38;5;124m'\u001b[39m\u001b[38;5;124minternal\u001b[39m\u001b[38;5;124m'\u001b[39m,\u001b[38;5;124m'\u001b[39m\u001b[38;5;124munit\u001b[39m\u001b[38;5;124m'\u001b[39m:\u001b[38;5;124m'\u001b[39m\u001b[38;5;124mpercent_effective\u001b[39m\u001b[38;5;124m'\u001b[39m}), \u001b[38;5;66;03m# p 206 s 6.6.3.1\u001b[39;00m\n\u001b[0;32m     44\u001b[0m          (\u001b[38;5;124m'\u001b[39m\u001b[38;5;124moperating_measures\u001b[39m\u001b[38;5;124m'\u001b[39m,     {\u001b[38;5;124m'\u001b[39m\u001b[38;5;124mthreat\u001b[39m\u001b[38;5;124m'\u001b[39m:\u001b[38;5;124m'\u001b[39m\u001b[38;5;124mcorrosion\u001b[39m\u001b[38;5;124m'\u001b[39m,\u001b[38;5;124m'\u001b[39m\u001b[38;5;124mtype\u001b[39m\u001b[38;5;124m'\u001b[39m:\u001b[38;5;124m'\u001b[39m\u001b[38;5;124mmitigation\u001b[39m\u001b[38;5;124m'\u001b[39m,\u001b[38;5;124m'\u001b[39m\u001b[38;5;124msubtype\u001b[39m\u001b[38;5;124m'\u001b[39m:\u001b[38;5;124m'\u001b[39m\u001b[38;5;124minternal\u001b[39m\u001b[38;5;124m'\u001b[39m,\u001b[38;5;124m'\u001b[39m\u001b[38;5;124munit\u001b[39m\u001b[38;5;124m'\u001b[39m:\u001b[38;5;124m'\u001b[39m\u001b[38;5;124mpercent_effective\u001b[39m\u001b[38;5;124m'\u001b[39m}), \u001b[38;5;66;03m# p 207 s x\u001b[39;00m\n\u001b[0;32m     45\u001b[0m          (\u001b[38;5;124m'\u001b[39m\u001b[38;5;124mproduct_treatment\u001b[39m\u001b[38;5;124m'\u001b[39m,      {\u001b[38;5;124m'\u001b[39m\u001b[38;5;124mthreat\u001b[39m\u001b[38;5;124m'\u001b[39m:\u001b[38;5;124m'\u001b[39m\u001b[38;5;124mcorrosion\u001b[39m\u001b[38;5;124m'\u001b[39m,\u001b[38;5;124m'\u001b[39m\u001b[38;5;124mtype\u001b[39m\u001b[38;5;124m'\u001b[39m:\u001b[38;5;124m'\u001b[39m\u001b[38;5;124mmitigation\u001b[39m\u001b[38;5;124m'\u001b[39m,\u001b[38;5;124m'\u001b[39m\u001b[38;5;124msubtype\u001b[39m\u001b[38;5;124m'\u001b[39m:\u001b[38;5;124m'\u001b[39m\u001b[38;5;124minternal\u001b[39m\u001b[38;5;124m'\u001b[39m,\u001b[38;5;124m'\u001b[39m\u001b[38;5;124munit\u001b[39m\u001b[38;5;124m'\u001b[39m:\u001b[38;5;124m'\u001b[39m\u001b[38;5;124mpercent_effective\u001b[39m\u001b[38;5;124m'\u001b[39m}),\n\u001b[0;32m     46\u001b[0m \n\u001b[0;32m     47\u001b[0m          \n\u001b[0;32m     48\u001b[0m          (\u001b[38;5;124m'\u001b[39m\u001b[38;5;124mwall_thickness\u001b[39m\u001b[38;5;124m'\u001b[39m,         {\u001b[38;5;124m'\u001b[39m\u001b[38;5;124mthreat\u001b[39m\u001b[38;5;124m'\u001b[39m:\u001b[38;5;124m'\u001b[39m\u001b[38;5;124mcorrosion\u001b[39m\u001b[38;5;124m'\u001b[39m,\u001b[38;5;124m'\u001b[39m\u001b[38;5;124mtype\u001b[39m\u001b[38;5;124m'\u001b[39m:\u001b[38;5;124m'\u001b[39m\u001b[38;5;124mresistance\u001b[39m\u001b[38;5;124m'\u001b[39m,\u001b[38;5;124m'\u001b[39m\u001b[38;5;124msubtype\u001b[39m\u001b[38;5;124m'\u001b[39m:\u001b[38;5;124m'\u001b[39m\u001b[38;5;124minternal/external\u001b[39m\u001b[38;5;124m'\u001b[39m,\u001b[38;5;124m'\u001b[39m\u001b[38;5;124munit\u001b[39m\u001b[38;5;124m'\u001b[39m:\u001b[38;5;124m'\u001b[39m\u001b[38;5;124mmils\u001b[39m\u001b[38;5;124m'\u001b[39m}), \u001b[38;5;66;03m# p 174 s 6.4.11\u001b[39;00m\n\u001b[0;32m     49\u001b[0m \n\u001b[0;32m     50\u001b[0m          ]\n\u001b[0;32m     53\u001b[0m \u001b[38;5;66;03m# Corrosion\u001b[39;00m\n\u001b[0;32m     54\u001b[0m \u001b[38;5;66;03m# Equipment \u001b[39;00m\n\u001b[0;32m     55\u001b[0m \u001b[38;5;66;03m# Excavation Damage \u001b[39;00m\n\u001b[1;32m   (...)\u001b[0m\n\u001b[0;32m     59\u001b[0m \u001b[38;5;66;03m# Other Outside Force \u001b[39;00m\n\u001b[0;32m     60\u001b[0m \u001b[38;5;66;03m# Other \u001b[39;00m\n\u001b[0;32m     62\u001b[0m G\u001b[38;5;241m.\u001b[39madd_nodes_from(nodes)\n",
      "\u001b[1;31mTypeError\u001b[0m: 'tuple' object is not callable"
     ]
    }
   ],
   "source": [
    "# corrosion\n",
    "## exposures\n",
    "### internal\n",
    "#### normal flow\n",
    "#### abnormal flow\n",
    "\n",
    "\n",
    "### external\n",
    "#### subsurface\n",
    "#### atmospheric\n",
    "\n",
    "\n",
    "## mitigation\n",
    "\n",
    "\n",
    "\n",
    "import networkx as nx\n",
    "\n",
    "\n",
    "node_type_color = {'exposure':'red',\n",
    "                   'mitigation':'blue',\n",
    "                   'resistance':'green'}\n",
    "\n",
    "G = nx.Graph()\n",
    "\n",
    "nodes = [('OTHER_EXPOSURE',         {'threat':'corrosion','type':'exposure','subtype':'external','unit':'mpy'}),\n",
    "    \n",
    "         ('atmosphere',             {'threat':'corrosion','type':'exposure','subtype':'external','unit':'mpy'}), # p 178 s 6.5.1.1 \n",
    "         ('soil',                   {'threat':'corrosion','type':'exposure','subtype':'external','unit':'mpy'}), # p 180 s 6.5.1.2\n",
    "         ('water',                  {'threat':'corrosion','type':'exposure','subtype':'external','unit':'mpy'}), # p 180 s 6.5.1.2\n",
    "         ('ac_induced',             {'threat':'corrosion','type':'exposure','subtype':'external','unit':'mpy'}), # p 182 s x\n",
    "         ('interferences',          {'threat':'corrosion','type':'exposure','subtype':'external','unit':'mpy'}), # p 191\n",
    "         \n",
    "         ('product',                {'threat':'corrosion','type':'exposure','subtype':'internal','unit':'mpy'}),\n",
    "         ('non_product',            {'threat':'corrosion','type':'exposure','subtype':'internal','unit':'mpy'}),\n",
    "         \n",
    "         \n",
    "         ('coating',                {'threat':'corrosion','type':'mitigation','subtype':'external','unit':'percent_effective'}),\n",
    "         ('cathodic_protection',    {'threat':'corrosion','type':'mitigation','subtype':'external','unit':'percent_effective'}),\n",
    "\n",
    "         ('internal_coating',       {'threat':'corrosion','type':'mitigation','subtype':'internal','unit':'percent_effective'}), # p 207 s 6.6.3.3\n",
    "         ('inhibitor',              {'threat':'corrosion','type':'mitigation','subtype':'internal','unit':'percent_effective'}), # p 206 s 6.6.3.2\n",
    "         ('cleaning',               {'threat':'corrosion','type':'mitigation','subtype':'internal','unit':'percent_effective'}), # p 206 s 6.6.3.1\n",
    "         ('operating_measures',     {'threat':'corrosion','type':'mitigation','subtype':'internal','unit':'percent_effective'}), # p 207 s x\n",
    "         ('product_treatment',      {'threat':'corrosion','type':'mitigation','subtype':'internal','unit':'percent_effective'}),\n",
    "\n",
    "         \n",
    "         ('wall_thickness',         {'threat':'corrosion','type':'resistance','subtype':'internal/external','unit':'mils'}), # p 174 s 6.4.11\n",
    "\n",
    "         ]\n",
    "\n",
    "\n",
    "# Corrosion\n",
    "# Equipment \n",
    "# Excavation Damage \n",
    "# Incorrect Operations \n",
    "# Materials/Welds/Joints\n",
    "# Natural Forces \n",
    "# Other Outside Force \n",
    "# Other \n",
    "\n",
    "G.add_nodes_from(nodes)\n"
   ]
  },
  {
   "cell_type": "code",
   "execution_count": null,
   "metadata": {},
   "outputs": [],
   "source": []
  }
 ],
 "metadata": {
  "kernelspec": {
   "display_name": "Python 3",
   "language": "python",
   "name": "python3"
  },
  "language_info": {
   "codemirror_mode": {
    "name": "ipython",
    "version": 3
   },
   "file_extension": ".py",
   "mimetype": "text/x-python",
   "name": "python",
   "nbconvert_exporter": "python",
   "pygments_lexer": "ipython3",
   "version": "3.11.9"
  }
 },
 "nbformat": 4,
 "nbformat_minor": 2
}
